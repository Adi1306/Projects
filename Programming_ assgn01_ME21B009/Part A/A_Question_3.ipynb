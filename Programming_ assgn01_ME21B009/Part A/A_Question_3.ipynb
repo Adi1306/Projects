{
 "cells": [
  {
   "cell_type": "code",
   "execution_count": 1,
   "id": "ef667996",
   "metadata": {},
   "outputs": [],
   "source": [
    "#Importing important libraries\n",
    "import numpy as np\n",
    "import copy\n",
    "import matplotlib.pyplot as plt"
   ]
  },
  {
   "cell_type": "code",
   "execution_count": 2,
   "id": "3c8f383a",
   "metadata": {},
   "outputs": [],
   "source": [
    "#Creating a MDP Environment  using class method\n",
    "class MDP_Environment():\n",
    "    def __init__(self):\n",
    "        #Initializing state vale function(0 at all states)\n",
    "        self.V = np.zeros(4)\n",
    "        #Defining initial policy\n",
    "        self.pi = ['S','S','S','S']\n",
    "        #Defining transition probability matrix for leave/go back.\n",
    "        self.P_leave = np.array([ \n",
    "          [0,0.2,0.3,0.5],\n",
    "          [0.5,0,0.5,0],\n",
    "          [0,0.5,0,0.5],\n",
    "          [0,0.5,0.5,0]\n",
    "         ])\n",
    "        #Defining transition probability matrix for stay/go back.\n",
    "        self.P_stay = P_stay = np.array([ \n",
    "          [1,0,0,0],\n",
    "          [0.2,0.8,0,0],\n",
    "          [0,0.2,0.8,0],\n",
    "          [0,0,0.2,0.8]\n",
    "         ])\n",
    "        #Reward structure for staying in a state\n",
    "        self.rewards_stay = np.array([3,2,1,0])\n",
    "        #Reward structure for leaving a state\n",
    "        self.rewards_leave = np.array([2,1,3,10])"
   ]
  },
  {
   "cell_type": "code",
   "execution_count": 3,
   "id": "74babb2e",
   "metadata": {},
   "outputs": [],
   "source": [
    "V = np.zeros(4)\n",
    "#Function to compute state value function, which takes discount factor and number of iterations as arguments.\n",
    "def state_val_function(dis_factor, iters):\n",
    "    env = MDP_Environment()\n",
    "    for _ in range(iters):\n",
    "        for i in range(4):\n",
    "            #Computing state value function if agent chooses to 'Stay'\n",
    "            if env.pi[i] == 'S':\n",
    "                V[i] = env.rewards_stay[i] + (dis_factor * np.dot(env.P_stay[i], V))\n",
    "                \n",
    "            #Computing state value function if agent chooses to 'leave'    \n",
    "            elif env.pi[i] == 'L':\n",
    "                V[i] = env.rewards_leave[i] + (dis_factor * np.dot(env.P_leave[i], V))\n",
    "    return V"
   ]
  },
  {
   "cell_type": "code",
   "execution_count": 4,
   "id": "1c8cc125",
   "metadata": {},
   "outputs": [],
   "source": [
    "def policy_iteration(dis_factor, theta, max_iters):\n",
    "    env = MDP_Environment()\n",
    "    policy_stable = False\n",
    "    iters = 1\n",
    "    while not policy_stable and iters <= max_iters:\n",
    "        print(f\"\\nPolicy Iteration  | Iteration = {iters}\")\n",
    "        evaluate_policy(env, dis_factor, theta)\n",
    "        policy_stable = improve_policy(env, dis_factor)\n",
    "        \n",
    "        iters += 1      \n",
    "    print('\\033[1m' + f\"Optimal Policy ={env.pi}\" + '\\033[0m' )\n",
    "    print('\\033[1m' + f\"State Value Function Corresponding to Optimal Policy ={env.V}\" + '\\033[0m')\n",
    "    return env.V"
   ]
  },
  {
   "cell_type": "code",
   "execution_count": 5,
   "id": "2e0a5a07",
   "metadata": {},
   "outputs": [],
   "source": [
    "def evaluate_policy(env, dis_factor, theta):\n",
    "    sweep = 0\n",
    "    delta = copy.copy(theta)\n",
    "    V = copy.copy(env.V)\n",
    "    while delta >= theta:\n",
    "        delta = 0\n",
    "        for i in range(4):\n",
    "            cur_val = copy.copy(env.V[i])\n",
    "            new_val = 0\n",
    "            Q_s = env.rewards_stay[i] + dis_factor*(np.dot(env.P_stay[i], env.V))\n",
    "            Q_l = env.rewards_leave[i] + dis_factor*(np.dot(env.P_leave[i], env.V))\n",
    "            new_val = max(Q_s, Q_l)\n",
    "            env.V[i] = (new_val)\n",
    "            delta = max(delta, abs(cur_val - new_val))\n",
    "        sweep += 1\n",
    "    \n",
    "    print(f\"Policy Evaluation | #Sweeps = {sweep}\")"
   ]
  },
  {
   "cell_type": "code",
   "execution_count": 6,
   "id": "8c279f18",
   "metadata": {},
   "outputs": [],
   "source": [
    "def improve_policy(env, dis_factor):\n",
    "    print(f\"Policy Improvement\")\n",
    "    policy_stable = True\n",
    "    for i in range(4):\n",
    "        old_actions = copy.copy(env.pi[i])\n",
    "        Q_s = env.rewards_stay[i] + dis_factor*(np.dot(env.P_stay[i], env.V))\n",
    "        Q_l = env.rewards_leave[i] + dis_factor*(np.dot(env.P_leave[i], env.V))\n",
    "        if Q_s > Q_l:\n",
    "            env.pi[i] = 'S'\n",
    "        else:\n",
    "            env.pi[i] = 'L'\n",
    "    new_actions = env.pi[i]\n",
    "    if not np.array_equal(old_actions, new_actions):\n",
    "            policy_stable =  False\n",
    "        \n",
    "    return policy_stable       "
   ]
  },
  {
   "cell_type": "code",
   "execution_count": 7,
   "id": "2cd0a3f8",
   "metadata": {},
   "outputs": [],
   "source": [
    "def value_iteration(dis_factor, theta, max_iters):\n",
    "    env = MDP_Environment()\n",
    "    delta = copy.copy(theta)\n",
    "    iters = 1\n",
    "    \n",
    "    while delta >= theta and iters <= max_iters:\n",
    "        print(f\"\\nValue Iteration  | Iteration = {iters}\")\n",
    "        delta = bellman_optimal_update(env, dis_factor)\n",
    "        iters += 1 \n",
    "    greedy_policy(env, dis_factor)\n",
    "    print('\\033[1m' + f\"{env.pi}\" + '\\033[0m')\n",
    "    print('\\033[1m' + f\"{env.V}\" + '\\033[0m')       "
   ]
  },
  {
   "cell_type": "code",
   "execution_count": 8,
   "id": "c2e61901",
   "metadata": {},
   "outputs": [],
   "source": [
    "def bellman_optimal_update(env, dis_factor):\n",
    "    print(f\"Bellman Optimatlity Update\")\n",
    "    delta = 0\n",
    "   \n",
    "    for i in range(4):\n",
    "        cur_val = copy.copy(env.V[i])\n",
    "        Q_s = env.rewards_stay[i] + dis_factor*(np.dot(env.P_stay[i], env.V))\n",
    "        Q_l = env.rewards_leave[i] + dis_factor*(np.dot(env.P_leave[i], env.V))\n",
    "        new_val = max(Q_s, Q_l)\n",
    "        env.V[i] = (new_val)\n",
    "        delta = max(delta, abs(cur_val - new_val))\n",
    "    return delta      "
   ]
  },
  {
   "cell_type": "code",
   "execution_count": 9,
   "id": "bf8fc137",
   "metadata": {},
   "outputs": [],
   "source": [
    "def greedy_policy(env, dis_factor):\n",
    "    print(f\"Greedifying Policy\")\n",
    "    \n",
    "    for i in range(4):\n",
    "        \n",
    "        old_actions = copy.copy(env.pi[i])\n",
    "        Q_s = env.rewards_stay[i] + dis_factor*(np.dot(env.P_stay[i], env.V))\n",
    "        Q_l = env.rewards_leave[i] + dis_factor*(np.dot(env.P_leave[i], env.V))\n",
    "        if Q_s > Q_l:\n",
    "            env.pi[i] = 'S'\n",
    "        else:\n",
    "            env.pi[i] = 'L'  \n",
    "    V_opt  = env.V\n",
    "    return V_opt    "
   ]
  },
  {
   "cell_type": "code",
   "execution_count": 10,
   "id": "332bca19",
   "metadata": {},
   "outputs": [],
   "source": [
    "# Discount Factor\n",
    "dis_factor = 0.9          \n",
    "# Threshold for stopping the policy evaluation (or prediction) algo\n",
    "theta = 0.1\n",
    "# Maximum Iterations for the Policy Iteration Algorithms\n",
    "max_iters = 100"
   ]
  },
  {
   "cell_type": "code",
   "execution_count": 11,
   "id": "60157b15",
   "metadata": {},
   "outputs": [
    {
     "name": "stdout",
     "output_type": "stream",
     "text": [
      "\u001b[1mState value function according to policy: ['S', 'S', 'S', 'S']\u001b[0m\n",
      "\u001b[1mV^pi(A) = 30.00\u001b[0m\n",
      "\u001b[1mV^pi(B) = 26.43\u001b[0m\n",
      "\u001b[1mV^pi(C) = 20.56\u001b[0m\n",
      "\u001b[1mV^pi(D) = 13.22\u001b[0m\n"
     ]
    }
   ],
   "source": [
    "# Calculating state value function for policy: ['S', 'S', 'S', 'S']\n",
    "V_pi = state_val_function(dis_factor, max_iters)\n",
    "print('\\033[1m' + \"State value function according to policy: ['S', 'S', 'S', 'S']\" + '\\033[0m')\n",
    "for i, value in zip(['A', 'B', 'C', 'D'], V_pi):\n",
    "    print('\\033[1m' + f\"V^pi({i}) = {value:.2f}\" + '\\033[0m')"
   ]
  },
  {
   "cell_type": "code",
   "execution_count": 12,
   "id": "1af55088",
   "metadata": {},
   "outputs": [
    {
     "name": "stdout",
     "output_type": "stream",
     "text": [
      "\n",
      "Policy Iteration  | Iteration = 1\n",
      "Policy Evaluation | #Sweeps = 22\n",
      "Policy Improvement\n",
      "\n",
      "Policy Iteration  | Iteration = 2\n",
      "Policy Evaluation | #Sweeps = 1\n",
      "Policy Improvement\n",
      "\u001b[1mOptimal Policy =['L', 'L', 'L', 'L']\u001b[0m\n",
      "\u001b[1mState Value Function Corresponding to Optimal Policy =[38.03026122 35.30409374 38.25916535 43.10346659]\u001b[0m\n"
     ]
    },
    {
     "data": {
      "text/plain": [
       "array([38.03026122, 35.30409374, 38.25916535, 43.10346659])"
      ]
     },
     "execution_count": 12,
     "metadata": {},
     "output_type": "execute_result"
    }
   ],
   "source": [
    "# Running policy iteration to find optimal policy\n",
    "policy_iteration(dis_factor, theta, max_iters)"
   ]
  },
  {
   "cell_type": "code",
   "execution_count": 13,
   "id": "ea06d79f",
   "metadata": {},
   "outputs": [
    {
     "name": "stdout",
     "output_type": "stream",
     "text": [
      "\n",
      "Value Iteration  | Iteration = 1\n",
      "Bellman Optimatlity Update\n",
      "\n",
      "Value Iteration  | Iteration = 2\n",
      "Bellman Optimatlity Update\n",
      "\n",
      "Value Iteration  | Iteration = 3\n",
      "Bellman Optimatlity Update\n",
      "\n",
      "Value Iteration  | Iteration = 4\n",
      "Bellman Optimatlity Update\n",
      "\n",
      "Value Iteration  | Iteration = 5\n",
      "Bellman Optimatlity Update\n",
      "\n",
      "Value Iteration  | Iteration = 6\n",
      "Bellman Optimatlity Update\n",
      "\n",
      "Value Iteration  | Iteration = 7\n",
      "Bellman Optimatlity Update\n",
      "\n",
      "Value Iteration  | Iteration = 8\n",
      "Bellman Optimatlity Update\n",
      "\n",
      "Value Iteration  | Iteration = 9\n",
      "Bellman Optimatlity Update\n",
      "\n",
      "Value Iteration  | Iteration = 10\n",
      "Bellman Optimatlity Update\n",
      "\n",
      "Value Iteration  | Iteration = 11\n",
      "Bellman Optimatlity Update\n",
      "\n",
      "Value Iteration  | Iteration = 12\n",
      "Bellman Optimatlity Update\n",
      "\n",
      "Value Iteration  | Iteration = 13\n",
      "Bellman Optimatlity Update\n",
      "\n",
      "Value Iteration  | Iteration = 14\n",
      "Bellman Optimatlity Update\n",
      "\n",
      "Value Iteration  | Iteration = 15\n",
      "Bellman Optimatlity Update\n",
      "\n",
      "Value Iteration  | Iteration = 16\n",
      "Bellman Optimatlity Update\n",
      "\n",
      "Value Iteration  | Iteration = 17\n",
      "Bellman Optimatlity Update\n",
      "\n",
      "Value Iteration  | Iteration = 18\n",
      "Bellman Optimatlity Update\n",
      "\n",
      "Value Iteration  | Iteration = 19\n",
      "Bellman Optimatlity Update\n",
      "\n",
      "Value Iteration  | Iteration = 20\n",
      "Bellman Optimatlity Update\n",
      "\n",
      "Value Iteration  | Iteration = 21\n",
      "Bellman Optimatlity Update\n",
      "\n",
      "Value Iteration  | Iteration = 22\n",
      "Bellman Optimatlity Update\n",
      "Greedifying Policy\n",
      "\u001b[1m['L', 'L', 'L', 'L']\u001b[0m\n",
      "\u001b[1m[37.96628833 35.24251299 38.20105821 43.04960704]\u001b[0m\n"
     ]
    }
   ],
   "source": [
    "# Running value to find optimal value function and greedy policy\n",
    "value_iteration(dis_factor, theta, max_iters)"
   ]
  },
  {
   "cell_type": "code",
   "execution_count": 14,
   "id": "c4e61e35",
   "metadata": {},
   "outputs": [
    {
     "name": "stdout",
     "output_type": "stream",
     "text": [
      "\n",
      "Policy Iteration  | Iteration = 1\n",
      "Policy Evaluation | #Sweeps = 22\n",
      "Policy Improvement\n",
      "\n",
      "Policy Iteration  | Iteration = 2\n",
      "Policy Evaluation | #Sweeps = 1\n",
      "Policy Improvement\n",
      "\u001b[1mOptimal Policy =['L', 'L', 'L', 'L']\u001b[0m\n",
      "\u001b[1mState Value Function Corresponding to Optimal Policy =[38.03026122 35.30409374 38.25916535 43.10346659]\u001b[0m\n"
     ]
    }
   ],
   "source": [
    "# Optimal Policy\n",
    "V_opt = policy_iteration(dis_factor, theta, max_iters)"
   ]
  },
  {
   "cell_type": "code",
   "execution_count": 15,
   "id": "404ba869",
   "metadata": {
    "scrolled": true
   },
   "outputs": [
    {
     "data": {
      "image/png": "[encoded data removed]",
      "text/plain": [
       "<Figure size 640x480 with 1 Axes>"
      ]
     },
     "metadata": {},
     "output_type": "display_data"
    }
   ],
   "source": [
    "# Comparing state value function for initial policy(['S', 'S', 'S', 'S']) and Optimal Policy\n",
    "states = ['A', 'B', 'C', 'D']\n",
    "X_axis = np.arange(len(states))\n",
    "plt.bar(X_axis - 0.2,V_pi , 0.4, label = 'Initial Policy')\n",
    "plt.bar(X_axis + 0.2,V_opt, 0.4, label = 'Optimal Policy')  \n",
    "plt.xticks(X_axis, states)\n",
    "plt.xlabel(\"States\")\n",
    "plt.ylabel(\"State Value Function\")\n",
    "plt.title(\"Comparison of Value function for initial and optimal policy\")\n",
    "plt.legend()\n",
    "plt.show()"
   ]
  }
 ],
 "metadata": {
  "kernelspec": {
   "display_name": "Python 3 (ipykernel)",
   "language": "python",
   "name": "python3"
  },
  "language_info": {
   "codemirror_mode": {
    "name": "ipython",
    "version": 3
   },
   "file_extension": ".py",
   "mimetype": "text/x-python",
   "name": "python",
   "nbconvert_exporter": "python",
   "pygments_lexer": "ipython3",
   "version": "3.10.9"
  }
 },
 "nbformat": 4,
 "nbformat_minor": 5
}
